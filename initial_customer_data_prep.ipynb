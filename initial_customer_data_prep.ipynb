{
 "cells": [
  {
   "cell_type": "code",
   "execution_count": 152,
   "metadata": {},
   "outputs": [],
   "source": [
    "import numpy as np\n",
    "import pandas as pd\n",
    "from sklearn.feature_extraction.text import CountVectorizer\n",
    "from sklearn.metrics.pairwise import cosine_similarity\n",
    "from sklearn.preprocessing import StandardScaler\n",
    "from annoy import AnnoyIndex\n",
    "from sklearn.decomposition import PCA, IncrementalPCA"
   ]
  },
  {
   "cell_type": "code",
   "execution_count": 98,
   "metadata": {},
   "outputs": [],
   "source": [
    "# data source: https://www.kaggle.com/mkechinov/ecommerce-behavior-data-from-multi-category-store?select=2019-Oct.csv\n",
    "df = pd.read_csv('2019-Oct.csv')"
   ]
  },
  {
   "cell_type": "code",
   "execution_count": 9,
   "metadata": {},
   "outputs": [
    {
     "data": {
      "text/plain": [
       "event_time       424488\n",
       "event_type       424488\n",
       "product_id       424488\n",
       "category_id      424488\n",
       "category_code    289385\n",
       "brand            363443\n",
       "price            424488\n",
       "user_id          424488\n",
       "user_session     424488\n",
       "dtype: int64"
      ]
     },
     "execution_count": 9,
     "metadata": {},
     "output_type": "execute_result"
    }
   ],
   "source": [
    "# Filter df to limit rows in training\n",
    "df = df.sample(frac = 0.01) \n",
    "df.count()"
   ]
  },
  {
   "cell_type": "code",
   "execution_count": 10,
   "metadata": {},
   "outputs": [],
   "source": [
    "# Save data\n",
    "df.to_pickle(\"purchase_data.pkl\")\n",
    "\n",
    "# df = pd.read_pickle(\"purchase_data.pkl\")"
   ]
  },
  {
   "cell_type": "code",
   "execution_count": 24,
   "metadata": {},
   "outputs": [],
   "source": [
    "# Group by user, product, and event type (view, cart, purchase) to get counts\n",
    "user =  df[['user_id', 'product_id', 'event_type', 'event_time']]. \\\n",
    "    groupby(['user_id', 'product_id', 'event_type']).count().reset_index().rename(columns = {'event_time':'count'})"
   ]
  },
  {
   "cell_type": "code",
   "execution_count": 25,
   "metadata": {},
   "outputs": [],
   "source": [
    "# Change value to 2 if count is more than 2 \n",
    "# (1 indicates the event happened once; 2 indicates greater interest)\n",
    "user.loc[user['count'] > 2, 'count'] = 2"
   ]
  },
  {
   "cell_type": "code",
   "execution_count": 27,
   "metadata": {},
   "outputs": [],
   "source": [
    "# Group by user_id and product_id (drop event_type). For a user who\n",
    "# viewed, added to cart, and purchased a product more than once, the\n",
    "# value will be 6. A customer who only viewed a product once will have\n",
    "# a value of 1 for the product.\n",
    "user = user.groupby(['user_id', 'product_id']).sum().reset_index()"
   ]
  },
  {
   "cell_type": "code",
   "execution_count": null,
   "metadata": {},
   "outputs": [],
   "source": [
    "# Create 'document' of user-product relationship by repeating the \n",
    "# product_id by the value created above. For example, a user who\n",
    "# had a value of 6 will have the product id repeated 6 times in the\n",
    "# item column.\n",
    "def id_repeater(row):\n",
    "    arr = np.repeat(row['product_id'], row['count'], axis=0)\n",
    "    lst = arr.tolist()\n",
    "    lst = [str(l) for l in lst]\n",
    "    return ' '.join(lst)\n",
    "\n",
    "user['item'] = user.apply(id_repeater, axis=1)"
   ]
  },
  {
   "cell_type": "code",
   "execution_count": 30,
   "metadata": {},
   "outputs": [],
   "source": [
    "# Join all of a user's items across products together. This finalizes\n",
    "# the item 'document' for each user.\n",
    "user = user.groupby(['user_id'])['item'].apply(' '.join).reset_index()"
   ]
  },
  {
   "cell_type": "code",
   "execution_count": null,
   "metadata": {},
   "outputs": [],
   "source": [
    "# Add list_item column for later retrieval\n",
    "user['list_item'] = user['item'].apply(lambda x: x.split(\" \"))"
   ]
  },
  {
   "cell_type": "code",
   "execution_count": null,
   "metadata": {},
   "outputs": [],
   "source": [
    "# Reindex\n",
    "user.drop(columns=['index'], inplace=True)"
   ]
  },
  {
   "cell_type": "code",
   "execution_count": 31,
   "metadata": {},
   "outputs": [],
   "source": [
    "# Save unfiltered data to pickle\n",
    "user.to_pickle(\"user_dataframe.pkl\")"
   ]
  },
  {
   "cell_type": "code",
   "execution_count": 32,
   "metadata": {},
   "outputs": [
    {
     "data": {
      "text/plain": [
       "(6411, 2)"
      ]
     },
     "execution_count": 32,
     "metadata": {},
     "output_type": "execute_result"
    }
   ],
   "source": [
    "# Downsample user to allow PCA to run\n",
    "user = user.sample(frac = 0.02) \n",
    "print(user.shape)\n",
    "\n",
    "# Save data\n",
    "user.to_pickle(\"user_dataframe_reduced.pkl\")\n",
    "\n",
    "# user = pd.read_pickle(\"user_dataframe_reduced.pkl\")"
   ]
  }
 ],
 "metadata": {
  "kernelspec": {
   "display_name": "Python 3",
   "language": "python",
   "name": "python3"
  },
  "language_info": {
   "codemirror_mode": {
    "name": "ipython",
    "version": 3
   },
   "file_extension": ".py",
   "mimetype": "text/x-python",
   "name": "python",
   "nbconvert_exporter": "python",
   "pygments_lexer": "ipython3",
   "version": "3.6.10"
  }
 },
 "nbformat": 4,
 "nbformat_minor": 4
}
